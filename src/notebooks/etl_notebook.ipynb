{
 "cells": [
  {
   "cell_type": "code",
   "execution_count": 0,
   "metadata": {
    "application/vnd.databricks.v1+cell": {
     "cellMetadata": {},
     "inputWidgets": {},
     "nuid": "26d1ffae-6645-44c9-80eb-e075359cf353",
     "showTitle": false,
     "tableResultSettingsMap": {},
     "title": ""
    }
   },
   "outputs": [],
   "source": [
    "# Databricks notebook source\n",
    "from pyspark.sql import functions as F\n",
    "\n",
    "# Parámetros (opcionales) si deseas pasarlos desde el job\n",
    "# dbutils.widgets.text(\"input_path\", \"/databricks-datasets/nyctaxi/tripdata\")\n",
    "# input_path = dbutils.widgets.get(\"input_path\")\n",
    "\n",
    "# Demo simple: crea un DataFrame, transforma y muestra\n",
    "\n",
    "data = [\n",
    "    (1, \"alice\", 10.5),\n",
    "    (2, \"bob\", 20.0),\n",
    "    (3, \"carol\", 15.7),\n",
    "]\n",
    "\n",
    "cols = [\"id\", \"name\", \"value\"]\n",
    "df = spark.createDataFrame(data, cols)\n",
    "\n",
    "df_transformed = df.withColumn(\"value_x2\", F.col(\"value\") * 2)\n",
    "\n",
    "display(df_transformed)"
   ]
  }
 ],
 "metadata": {
  "application/vnd.databricks.v1+notebook": {
   "computePreferences": null,
   "dashboards": [],
   "environmentMetadata": {
    "base_environment": "",
    "environment_version": "2"
   },
   "inputWidgetPreferences": null,
   "language": "python",
   "notebookMetadata": {
    "pythonIndentUnit": 4
   },
   "notebookName": "etl_notebook",
   "widgets": {}
  },
  "language_info": {
   "name": "python"
  }
 },
 "nbformat": 4,
 "nbformat_minor": 0
}
